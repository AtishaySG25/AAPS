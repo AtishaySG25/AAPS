{
  "nbformat": 4,
  "nbformat_minor": 0,
  "metadata": {
    "kernelspec": {
      "display_name": "R",
      "language": "R",
      "name": "ir"
    },
    "language_info": {
      "codemirror_mode": "r",
      "file_extension": ".r",
      "mimetype": "text/x-r-source",
      "name": "R",
      "pygments_lexer": "r",
      "version": "3.3.1"
    },
    "colab": {
      "provenance": []
    }
  },
  "cells": [
    {
      "cell_type": "code",
      "metadata": {
        "id": "nTmGOkPXZjUv"
      },
      "source": [
        "library(ggplot2)\n",
        "library(dplyr)"
      ],
      "execution_count": null,
      "outputs": []
    },
    {
      "cell_type": "code",
      "metadata": {
        "id": "BjtWsiK518rt"
      },
      "source": [
        "## Load data - refer to http://openmv.net/info/food-texture for data description\n",
        "file = 'http://openmv.net/file/food-texture.csv'\n",
        "foodData = read.csv(file, header = TRUE, row.names = 1)"
      ],
      "execution_count": null,
      "outputs": []
    },
    {
      "cell_type": "code",
      "metadata": {
        "id": "yqt-fOL56_FS"
      },
      "source": [
        "## Print structure of data frame\n",
        "str(foodData)"
      ],
      "execution_count": null,
      "outputs": []
    },
    {
      "cell_type": "code",
      "metadata": {
        "id": "Osm3V-ix4CvU"
      },
      "source": [
        "## Print first 5 samples of data frame\n",
        "head(foodData, n = 5)"
      ],
      "execution_count": null,
      "outputs": []
    },
    {
      "cell_type": "code",
      "metadata": {
        "id": "jglloopNLWCZ"
      },
      "source": [
        "## Modify data frame\n",
        "# Rename Oil column to OilPercentage\n",
        "foodData = foodData %>% rename(OilPercentage = Oil)\n",
        "\n",
        "# Modify crispy column to reflect high (0) and low (1) crispness\n",
        "foodData = foodData %>% mutate(Crispy = ifelse(Crispy > 11, 'high', 'low'))\n",
        "\n",
        "# Change Crispy column to factor type\n",
        "foodData['Crispy'] = lapply(foodData['Crispy'], factor)"
      ],
      "execution_count": null,
      "outputs": []
    },
    {
      "cell_type": "code",
      "metadata": {
        "id": "CdwwmrQ3PydO"
      },
      "source": [
        "## Print structure of modified data frame\n",
        "str(foodData)"
      ],
      "execution_count": null,
      "outputs": []
    },
    {
      "cell_type": "code",
      "metadata": {
        "id": "KQkF_NmGN2gS"
      },
      "source": [
        "## Print first 5 samples of modified data frame\n",
        "head(foodData, n = 5)"
      ],
      "execution_count": null,
      "outputs": []
    },
    {
      "cell_type": "code",
      "source": [
        "## Select data frame without Crispy column\n",
        "fData = foodData %>% select(-c(Crispy))"
      ],
      "metadata": {
        "id": "IcwSqBjvjveW"
      },
      "execution_count": null,
      "outputs": []
    },
    {
      "cell_type": "code",
      "source": [
        "## Understand the effect of mean-centering a feature (Density in this case)\n",
        "fData$Density_mc = fData$Density - mean(fData$Density)\n",
        "p1 = ggplot(data = fData) +\n",
        "  geom_point(aes(x = c(1:nrow(fData)), y = Density), size = 1, color = 'red') +\n",
        "  geom_point(aes(x = c(1:nrow(fData)), y = Density_mc), size = 1, color = 'blue') +\n",
        "  geom_hline(yintercept = 0) +\n",
        "  labs(x = 'Sample #', y = 'Density') +\n",
        "  ggtitle('Component plot') +\n",
        "  theme(plot.title = element_text(size = 16, hjust = 0.5),\n",
        "        axis.text = element_text(size = 12),\n",
        "        axis.text.x = element_text(size = 12),\n",
        "        axis.text.y = element_text(size = 12),\n",
        "        axis.title = element_text(size = 14, face = \"bold\"))\n",
        "p1"
      ],
      "metadata": {
        "id": "6T870ZnWcq2-"
      },
      "execution_count": null,
      "outputs": []
    },
    {
      "cell_type": "code",
      "source": [
        "## Understand the effect of mean-centering a feature (OilPercentage in this case)\n",
        "fData$OilPercentage_mc = fData$OilPercentage - mean(fData$OilPercentage)\n",
        "p1 = ggplot(data = fData) +\n",
        "  geom_point(aes(x = c(1:nrow(fData)), y = Density_mc/sd(Density)), size = 1, color = 'red') +\n",
        "  geom_point(aes(x = c(1:nrow(fData)), y = OilPercentage_mc/sd(OilPercentage)), size = 1, color = 'blue') +\n",
        "  geom_hline(yintercept = 0) +\n",
        "  labs(x = 'Sample #', y = 'Density') +\n",
        "  ggtitle('Component plot') +\n",
        "  theme(plot.title = element_text(size = 16, hjust = 0.5),\n",
        "        axis.text = element_text(size = 12),\n",
        "        axis.text.x = element_text(size = 12),\n",
        "        axis.text.y = element_text(size = 12),\n",
        "        axis.title = element_text(size = 14, face = \"bold\"))\n",
        "p1"
      ],
      "metadata": {
        "id": "zjFK6hxv0L_5"
      },
      "execution_count": null,
      "outputs": []
    },
    {
      "cell_type": "code",
      "source": [
        "## The mean-centered Density and OilPercentage values\n",
        "fData %>% select(Density_mc, OilPercentage_mc)"
      ],
      "metadata": {
        "id": "Kn3VdaFb6zRd"
      },
      "execution_count": null,
      "outputs": []
    },
    {
      "cell_type": "code",
      "source": [
        "## Understand the effect of Standardizing features (Density and OilPercentage in this case)\n",
        "p1 = ggplot(data = fData) +\n",
        "  geom_line(aes(x = c(1:nrow(fData)), y = Density_mc/sd(Density)), linewidth = 1, color = 'red') +\n",
        "  geom_line(aes(x = c(1:nrow(fData)), y = OilPercentage_mc/sd(OilPercentage)), linewidth = 1, color = 'blue') +\n",
        "  geom_hline(yintercept = 0) +\n",
        "  labs(x = 'Sample #', y = 'Density') +\n",
        "  ggtitle('Component plot') +\n",
        "  theme(plot.title = element_text(size = 16, hjust = 0.5),\n",
        "        axis.text = element_text(size = 12),\n",
        "        axis.text.x = element_text(size = 12),\n",
        "        axis.text.y = element_text(size = 12),\n",
        "        axis.title = element_text(size = 14, face = \"bold\"))\n",
        "p1"
      ],
      "metadata": {
        "id": "nf6_Vi6i2JDv"
      },
      "execution_count": null,
      "outputs": []
    },
    {
      "cell_type": "code",
      "source": [
        "## Understand the relationship between two continuous features\n",
        "## (Density and OilPercentage in this case)\n",
        "p1 = ggplot(data = fData) +\n",
        "  geom_point(aes(x = Density, y = OilPercentage), size = 1, color = 'red') +\n",
        "  labs(x = 'Density', y = 'Oil Percentage') +\n",
        "  ggtitle('Scatter plot') +\n",
        "  theme(plot.title = element_text(size = 16, hjust = 0.5),\n",
        "        axis.text = element_text(size = 12),\n",
        "        axis.text.x = element_text(size = 12),\n",
        "        axis.text.y = element_text(size = 12),\n",
        "        axis.title = element_text(size = 14, face = \"bold\"))\n",
        "p1"
      ],
      "metadata": {
        "id": "jdiGPhWG1jUb"
      },
      "execution_count": null,
      "outputs": []
    },
    {
      "cell_type": "code",
      "source": [
        "## Understand the relationship between two continuous features that are standardized\n",
        "## (Density and OilPercentage in this case)\n",
        "p1 = ggplot(data = fData) +\n",
        "  geom_point(aes(x = Density_mc/sd(Density), y = OilPercentage_mc/sd(OilPercentage)), size = 1, color = 'red') +\n",
        "  labs(x = 'Standardized Density', y = 'Standardized Oil Percentage') +\n",
        "  ggtitle('Scatter plot') +\n",
        "  theme(plot.title = element_text(size = 16, hjust = 0.5),\n",
        "        axis.text = element_text(size = 12),\n",
        "        axis.text.x = element_text(size = 12),\n",
        "        axis.text.y = element_text(size = 12),\n",
        "        axis.title = element_text(size = 14, face = \"bold\"))\n",
        "p1"
      ],
      "metadata": {
        "id": "_tMegYQT2gN0"
      },
      "execution_count": null,
      "outputs": []
    },
    {
      "cell_type": "code",
      "source": [
        "## Deselect the mean-centered features so that we go back to original 4 features\n",
        "fData = fData %>% select(-c(Density_mc, OilPercentage_mc))\n",
        "str(fData)"
      ],
      "metadata": {
        "id": "-77CbkOL3CNq"
      },
      "execution_count": null,
      "outputs": []
    },
    {
      "cell_type": "code",
      "source": [
        "# Calculate the covariance matrix for all features\n",
        "# or equivalently, calculate the covariance matrix of the data\n",
        "cov(fData)"
      ],
      "metadata": {
        "id": "wekL_vXJkJ0e"
      },
      "execution_count": null,
      "outputs": []
    },
    {
      "cell_type": "code",
      "source": [
        "## What is inside the covariance matrix?\n",
        "# Calculate the variance of Density\n",
        "var(fData$Density)\n",
        "(1/(nrow(fData)-1))*sum((fData$Density - mean(fData$Density))^2)\n",
        "print('--------')\n",
        "# Calculate the covariance between Density and OilPercentage\n",
        "cov(fData$Density, fData$OilPercentage)\n",
        "(1/(nrow(fData)-1))*sum((fData$Density-mean(fData$Density)) * (fData$OilPercentage-mean(fData$OilPercentage)))\n",
        "print('--------')\n",
        "# Calculate the correlation between Density and OilPercentage (Pearson's correlation coefficient)\n",
        "cov((fData$Density-mean(fData$Density))/sd(fData$Density), (fData$OilPercentage-mean(fData$OilPercentage))/sd(fData$OilPercentage))\n",
        "cor(fData$Density, fData$OilPercentage)"
      ],
      "metadata": {
        "id": "Gmv2CVYXlBLU"
      },
      "execution_count": null,
      "outputs": []
    },
    {
      "cell_type": "code",
      "source": [
        "## Calculate the correlation matrix for all features\n",
        "cor(fData)"
      ],
      "metadata": {
        "id": "dFQQZW7BnjnP"
      },
      "execution_count": null,
      "outputs": []
    },
    {
      "cell_type": "code",
      "source": [
        "# Calculate the covariance matrix using the samples (to be discussed later)\n",
        "n = nrow(fData)\n",
        "p = ncol(fData)\n",
        "S = matrix(0, p, p)\n",
        "X = as.matrix(fData)\n",
        "mu = apply(X, 2, mean) # average sample\n",
        "str(mu)\n",
        "for (i in c(1:n)){\n",
        "  S = S + (X[i, ]-mu) %*% t(X[i, ]-mu)\n",
        "}\n",
        "S = (1/(n-1))*S\n",
        "print(S)"
      ],
      "metadata": {
        "id": "ZC_935MfoQzU"
      },
      "execution_count": null,
      "outputs": []
    },
    {
      "cell_type": "code",
      "source": [
        "## Select only two continuous features (Density and OilPercentage in this case)\n",
        "fData2 = fData %>% select(c(Density, OilPercentage))\n",
        "head(fData2)"
      ],
      "metadata": {
        "id": "2akRLg6k_OVh"
      },
      "execution_count": null,
      "outputs": []
    },
    {
      "cell_type": "code",
      "source": [
        "## Calculate covariance and correlation matrices for the data\n",
        "## with two continuous features\n",
        "cov(fData2)\n",
        "cor(fData2)"
      ],
      "metadata": {
        "id": "mVLOcSvDAUqU"
      },
      "execution_count": null,
      "outputs": []
    },
    {
      "cell_type": "code",
      "source": [
        "## Calculate the eigenvectors of the covariance and correlation matrices\n",
        "e = eigen(cov(fData2))\n",
        "e$vectors\n",
        "print('----')\n",
        "e = eigen(cor(fData2))\n",
        "e$vectors"
      ],
      "metadata": {
        "id": "vKCWlN3W-_eU"
      },
      "execution_count": null,
      "outputs": []
    },
    {
      "cell_type": "code",
      "source": [
        "## Note that the eigenvectors of both covariance and correlation\n",
        "## matrices have unit magnitude and that they are pairwise perpendicular\n",
        "e = eigen(cov(fData2))\n",
        "apply((e$vectors)^2, 2, sum)\n",
        "e$vectors[, 1] %*% e$vectors[, 2] # zero dot-product implies perpendicular\n",
        "\n",
        "e = eigen(cor(fData2))\n",
        "apply((e$vectors)^2, 2, sum)\n",
        "e$vectors[, 1] %*% e$vectors[, 2] # zero dot-product implies perpendicular"
      ],
      "metadata": {
        "id": "_niW6zW1eysI"
      },
      "execution_count": null,
      "outputs": []
    },
    {
      "cell_type": "code",
      "source": [
        "# Calculate sample covariance matrix\n",
        "S = cov(fData)\n",
        "\n",
        "# Calculate eigenvectors and eigenvalues of sample covariance matrix\n",
        "e = eigen(S)\n",
        "\n",
        "# Eigenvectors of the sample covariance matrix\n",
        "V = e$vectors\n",
        "\n",
        "# Eigenvalues of the sample covariance matrix\n",
        "lambda = e$values\n",
        "\n",
        "#Print the eigenvalues\n",
        "print(lambda)\n",
        "print('------')\n",
        "# Print the eigenvectors or principal directions\n",
        "colnames(fData)\n",
        "print(V)"
      ],
      "metadata": {
        "id": "kzwTgUtdxuX4"
      },
      "execution_count": null,
      "outputs": []
    },
    {
      "cell_type": "code",
      "source": [
        "# Do the eigenvectors have unit magnitude?\n",
        "apply(V, 2, norm, type = '2')"
      ],
      "metadata": {
        "id": "v2Nc-O1oy7yZ"
      },
      "execution_count": null,
      "outputs": []
    },
    {
      "cell_type": "code",
      "source": [
        "# The principal directions (eigenvectors) are mutually perpendicular (or orthogonal)\n",
        "V[, 1] %*% V[, 2]\n",
        "V[, 1] %*% V[, 3]\n",
        "V[, 1] %*% V[, 4]\n",
        "V[, 2] %*% V[, 3]\n",
        "V[, 2] %*% V[, 4]\n",
        "V[, 3] %*% V[, 4]"
      ],
      "metadata": {
        "id": "rQau7FPs2HHw"
      },
      "execution_count": null,
      "outputs": []
    },
    {
      "cell_type": "code",
      "source": [
        "## Extract data matrix\n",
        "X = as.matrix(fData)"
      ],
      "metadata": {
        "id": "EFxDLh6qhOwf"
      },
      "execution_count": null,
      "outputs": []
    },
    {
      "cell_type": "code",
      "source": [
        "## PC1 loadings are components of the 1st eigen vector (1st principal diretion)\n",
        "V[, 1]"
      ],
      "metadata": {
        "id": "LzVPBw1yh2--"
      },
      "execution_count": null,
      "outputs": []
    },
    {
      "cell_type": "code",
      "source": [
        "## Project 1st sample onto the direction of the 1st eigenvector.\n",
        "## The resulting project value is called the PC1 score of the 1st sample\n",
        "X[1, ] %*% V[, 1]"
      ],
      "metadata": {
        "id": "MIpu9Pdvh4N0"
      },
      "execution_count": null,
      "outputs": []
    },
    {
      "cell_type": "code",
      "source": [
        "## Project all samples onto the direction of the 1st eigenvector.\n",
        "## In other words, we are calculating the PC1 score of all samples\n",
        "## in one shot\n",
        "X %*% V[, 1]"
      ],
      "metadata": {
        "id": "38Bft3Wuhd_G"
      },
      "execution_count": null,
      "outputs": []
    },
    {
      "cell_type": "code",
      "source": [
        "## Variance of the projections onto the 1st eigenvector\n",
        "var(X %*% V[, 1])\n",
        "var(X %*% V[, 2])\n",
        "var(X %*% V[, 3])\n",
        "var(X %*% V[, 4])"
      ],
      "metadata": {
        "id": "HAEdXas40pMx"
      },
      "execution_count": null,
      "outputs": []
    },
    {
      "cell_type": "code",
      "source": [
        "## Variance of the projections onto the 1st eigenvector\n",
        "var(X %*% V[, 1])\n",
        "\n",
        "# 1st eigenvalue\n",
        "lambda[1]"
      ],
      "metadata": {
        "id": "e9OQ_-kzh-S-"
      },
      "execution_count": null,
      "outputs": []
    },
    {
      "cell_type": "code",
      "source": [
        "## Project all samples onto the directions of all eigenvectors.\n",
        "## In other words, we calculate the PC1, PC2, PC3, PC4 scores of all\n",
        "## samples in one shot.\n",
        "X %*% V # this is a matrix-matrix product of a 50x4-matrix and a 4x4-matrix\n",
        "\n",
        "# Variance along all PC directions\n",
        "lambda\n",
        "apply(X %*% V, 2, var)\n",
        "\n",
        "print('--------')\n",
        "\n",
        "# Variance for each feature\n",
        "apply(fData, 2 , var)\n",
        "print('------')\n",
        "\n",
        "# Total variance in the data is equal to the sum of the variances\n",
        "# explained by each principal component\n",
        "sum(apply(fData, 2 , var))\n",
        "sum(lambda)\n",
        "print('------')"
      ],
      "metadata": {
        "id": "f95aAEfih_Bq"
      },
      "execution_count": null,
      "outputs": []
    },
    {
      "cell_type": "markdown",
      "metadata": {
        "id": "g9F2z9wyIDWY"
      },
      "source": [
        "----\n",
        "\n",
        "Using the PCA results, answer the following questions:\n",
        "\n",
        "\n",
        "1.   Which principal component assigns the greatest weight (in magnitude) to Density?\n",
        "2.   Which principal component assigns the greatest weight (in magnitude) to OilPercentage?\n",
        "3.    True/false: the 2nd principal component score for a sample assigns a maximum weight to its Hardness.\n",
        "\n",
        "----\n"
      ]
    },
    {
      "cell_type": "code",
      "source": [
        "print(V)"
      ],
      "metadata": {
        "id": "Mn6WkjWFiym7"
      },
      "execution_count": null,
      "outputs": []
    },
    {
      "cell_type": "code",
      "metadata": {
        "id": "aKWbI1JU8OGo"
      },
      "source": [
        "## How many minimum principal components are needed to explain more than\n",
        "## 95% of the variance in the data?\n",
        "lambda\n",
        "explained_var = sum(lambda)\n",
        "precentage_explained_var = (lambda / explained_var) * 100\n",
        "print(precentage_explained_var)\n",
        "cumsum(precentage_explained_var)"
      ],
      "execution_count": null,
      "outputs": []
    },
    {
      "cell_type": "code",
      "source": [
        "## Note that the results above were derived without standardizing\n",
        "## the data matrix, which is an essential first step if the features\n",
        "## have units that are several orders of magnitude different.\n",
        "\n",
        "# Scale the data matrix and repeat the results\n",
        "X = scale(fData)\n",
        "S = cov(X) # covariance of scaled data matrix is the same as the correlation matrix\n",
        "e = eigen(S) # calculate eigenvectors an eigenvalues\n",
        "V = e$vectors\n",
        "lambda = e$values\n",
        "colnames(fData)\n",
        "print(V)\n",
        "print(lambda)\n",
        "\n",
        "# Calculate PC1 to PC4 scores of all samples\n",
        "PC = X %*% V\n",
        "\n",
        "## How many minimum principal components are needed to explain more than\n",
        "## 90% of the variance in the data?\n",
        "lambda\n",
        "explained_var = sum(lambda)\n",
        "precentage_explained_var = (lambda / explained_var) * 100\n",
        "print(precentage_explained_var)\n",
        "cumsum(precentage_explained_var)\n"
      ],
      "metadata": {
        "id": "pI6-qAp6jPbi"
      },
      "execution_count": null,
      "outputs": []
    },
    {
      "cell_type": "code",
      "source": [
        "## To explain more than 85% variance, we need a minimum\n",
        "## of two principal components.\n",
        "plot(PC[, 1], PC[, 2])"
      ],
      "metadata": {
        "id": "wQboWHPtoW3p"
      },
      "execution_count": null,
      "outputs": []
    },
    {
      "cell_type": "code",
      "source": [
        "## Can the PC1 and PC2 scores also separate the low and high crispy samples?\n",
        "df = as.data.frame(cbind(PC[, 1], PC[, 2], foodData$Crispy))\n",
        "colnames(df) = c('PC1', 'PC2', 'Crispy')\n",
        "df['Crispy'] = lapply(df['Crispy'], as.factor)\n",
        "head(df)\n",
        "p = ggplot(data = df) +\n",
        "  geom_point(aes(x = PC1, y = PC2, color = Crispy))\n",
        "p"
      ],
      "metadata": {
        "id": "P64Ki78crcNl"
      },
      "execution_count": null,
      "outputs": []
    }
  ]
}